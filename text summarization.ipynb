{
 "cells": [
  {
   "cell_type": "code",
   "execution_count": 15,
   "metadata": {},
   "outputs": [],
   "source": [
    "#Document Summarization¶\n",
    "toy_text = \"\"\"\n",
    "A doctor in statistics from Osmania University, Venugopala Rao Manneni is an experienced data analyst who has over 15 years of work experience in a diverse areas  of verticals such as manufacturing, service, media, telecom,  retail,  pharma  and  education.  \n",
    "Prior  to  Juxt-Smart  Mandate,  he  has  worked  with  reputed organizations like TNS India (Kantar, WPP) and NFO MBL and served clients across UK, France and Asia Pacific region\n",
    "Venu’s  primary  responsibility  is  to  architecting  the  solutions  for  the  data  driven  problems  using  statistical methods, Machine Learning and deep learning algorithms for both structured and unstructured data.  \n",
    "Venu  holds  an  Phd & M.Phil  from  Osmania  University,  Hyderabad.  The  focus  of  his  PhD  (2012)was  on  AI& Machine Learning  Methods  titled  “Neural  network  applications  in  classification  problems”  and  his  MPhil (2008)  thesis focused  on  Multivariate  analysis  applications  in  business  and  research  titled  “Evolution  of  business organization  using  multivariate  techniques”.  \n",
    "He  was  the  topper  in  MSc.  Statistics Program  in  2003  at  the University. He was adjudged the best Quantum programmer in the year 2004 in TNS India and has over 10 publications in prestigious national/international journals on Hybrid analytical approaches in data mining and forecasting. \n",
    "\"\"\"\n"
   ]
  },
  {
   "cell_type": "code",
   "execution_count": 16,
   "metadata": {},
   "outputs": [
    {
     "data": {
      "text/plain": [
       "7"
      ]
     },
     "execution_count": 16,
     "metadata": {},
     "output_type": "execute_result"
    }
   ],
   "source": [
    "import nltk\n",
    "\n",
    "sentences = nltk.sent_tokenize(toy_text)\n",
    "len(sentences)"
   ]
  },
  {
   "cell_type": "code",
   "execution_count": 17,
   "metadata": {},
   "outputs": [],
   "source": [
    "import numpy as np\n",
    "import re\n",
    "\n",
    "stop_words = nltk.corpus.stopwords.words('english')\n",
    "\n",
    "def normalize_document(doc):\n",
    "    # lower case and remove special characters\\whitespaces\n",
    "    doc = re.sub(r'[^a-zA-Z\\s]', '', doc, re.I|re.A)\n",
    "    doc = doc.lower()\n",
    "    doc = doc.strip()\n",
    "    # tokenize document\n",
    "    tokens = nltk.word_tokenize(doc)\n",
    "    # filter stopwords out of document\n",
    "    filtered_tokens = [token for token in tokens if token not in stop_words]\n",
    "    # re-create document from filtered tokens\n",
    "    doc = ' '.join(filtered_tokens)\n",
    "    return doc\n",
    "\n",
    "normalize_corpus = np.vectorize(normalize_document)"
   ]
  },
  {
   "cell_type": "code",
   "execution_count": 18,
   "metadata": {},
   "outputs": [
    {
     "data": {
      "text/plain": [
       "array(['doctor statistics osmania university venugopala rao manneni experienced data analyst years work experience diverse areas verticals manufacturing service media telecom retail pharma education',\n",
       "       'prior juxtsmart mandate worked reputed organizations like tns india kantar wpp nfo mbl served clients across uk france asia pacific region venus primary responsibility architecting solutions data driven problems using statistical methods machine learning deep learning algorithms structured unstructured data',\n",
       "       'venu holds phd mphil osmania university hyderabad',\n",
       "       'focus phd ai machine learning methods titled neural network applications classification problems mphil thesis focused multivariate analysis applications business research titled evolution business organization using multivariate techniques',\n",
       "       'topper msc', 'statistics program university',\n",
       "       'adjudged best quantum programmer year tns india publications prestigious nationalinternational journals hybrid analytical approaches data mining forecasting'],\n",
       "      dtype='<U308')"
      ]
     },
     "execution_count": 18,
     "metadata": {},
     "output_type": "execute_result"
    }
   ],
   "source": [
    "norm_sentences = normalize_corpus(sentences)\n",
    "norm_sentences"
   ]
  },
  {
   "cell_type": "code",
   "execution_count": 19,
   "metadata": {},
   "outputs": [
    {
     "data": {
      "text/plain": [
       "(98, 7)"
      ]
     },
     "execution_count": 19,
     "metadata": {},
     "output_type": "execute_result"
    }
   ],
   "source": [
    "from sklearn.feature_extraction.text import TfidfVectorizer\n",
    "\n",
    "tv = TfidfVectorizer(min_df=0., max_df=1., use_idf=True)\n",
    "tv_matrix = tv.fit_transform(norm_sentences)\n",
    "tv_matrix = tv_matrix.toarray()\n",
    "\n",
    "vocab = tv.get_feature_names()\n",
    "td_matrix = tv_matrix.transpose()\n",
    "td_matrix = np.multiply(td_matrix, td_matrix > 0)\n",
    "td_matrix.shape"
   ]
  },
  {
   "cell_type": "code",
   "execution_count": 20,
   "metadata": {},
   "outputs": [
    {
     "data": {
      "text/plain": [
       "98"
      ]
     },
     "execution_count": 20,
     "metadata": {},
     "output_type": "execute_result"
    }
   ],
   "source": [
    "len(vocab)"
   ]
  },
  {
   "cell_type": "code",
   "execution_count": 21,
   "metadata": {},
   "outputs": [],
   "source": [
    "from scipy.sparse.linalg import svds\n",
    "    \n",
    "def low_rank_svd(matrix, singular_count=2):\n",
    "    \n",
    "    u, s, vt = svds(matrix, k=singular_count)\n",
    "    return u, s, vt"
   ]
  },
  {
   "cell_type": "code",
   "execution_count": 28,
   "metadata": {},
   "outputs": [
    {
     "name": "stdout",
     "output_type": "stream",
     "text": [
      "[0.64 0.74 0.62 0.61 0.   0.71 0.47]\n"
     ]
    }
   ],
   "source": [
    "num_sentences = 3\n",
    "num_topics = 2\n",
    "\n",
    "u, s, vt = low_rank_svd(td_matrix, singular_count=num_topics)  \n",
    "                                         \n",
    "sv_threshold = 0.5\n",
    "min_sigma_value = max(s) * sv_threshold\n",
    "s[s < min_sigma_value] = 0\n",
    "\n",
    "salience_scores = np.sqrt(np.dot(np.square(s), np.square(vt)))\n",
    "print(np.round(salience_scores, 2))"
   ]
  },
  {
   "cell_type": "code",
   "execution_count": 26,
   "metadata": {},
   "outputs": [],
   "source": [
    "top_sentence_indices = salience_scores.argsort()[-num_sentences:][::-1]\n",
    "top_sentence_indices.sort()"
   ]
  },
  {
   "cell_type": "code",
   "execution_count": 27,
   "metadata": {},
   "outputs": [
    {
     "name": "stdout",
     "output_type": "stream",
     "text": [
      "Prior  to  Juxt-Smart  Mandate,  he  has  worked  with  reputed organizations like TNS India (Kantar, WPP) and NFO MBL and served clients across UK, France and Asia Pacific region\n",
      "Venu’s  primary  responsibility  is  to  architecting  the  solutions  for  the  data  driven  problems  using  statistical methods, Machine Learning and deep learning algorithms for both structured and unstructured data.\n"
     ]
    }
   ],
   "source": [
    "print('\\n'.join(np.array(sentences)[top_sentence_indices]))"
   ]
  },
  {
   "cell_type": "code",
   "execution_count": null,
   "metadata": {},
   "outputs": [],
   "source": []
  }
 ],
 "metadata": {
  "kernelspec": {
   "display_name": "Python 3",
   "language": "python",
   "name": "python3"
  },
  "language_info": {
   "codemirror_mode": {
    "name": "ipython",
    "version": 3
   },
   "file_extension": ".py",
   "mimetype": "text/x-python",
   "name": "python",
   "nbconvert_exporter": "python",
   "pygments_lexer": "ipython3",
   "version": "3.7.3"
  }
 },
 "nbformat": 4,
 "nbformat_minor": 4
}
